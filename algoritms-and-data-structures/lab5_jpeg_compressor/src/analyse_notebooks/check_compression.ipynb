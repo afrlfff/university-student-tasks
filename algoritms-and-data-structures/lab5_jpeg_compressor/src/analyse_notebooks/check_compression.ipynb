{
 "cells": [
  {
   "cell_type": "code",
   "execution_count": 1,
   "metadata": {},
   "outputs": [],
   "source": [
    "import matplotlib.pyplot as plt\n",
    "import os"
   ]
  },
  {
   "cell_type": "code",
   "execution_count": 34,
   "metadata": {},
   "outputs": [],
   "source": [
    "# get path to current directory (it's a ipynb file)\n",
    "CURRENT_DIR = os.getcwd()\n",
    "\n",
    "input_path = os.path.join(CURRENT_DIR, \"..\", \"..\", \"input\", \"raw\", \"color.raw\")\n",
    "compressed_path = os.path.join(CURRENT_DIR, \"..\", \"..\", \"compressed\", \"color_compressed.bin\")"
   ]
  },
  {
   "cell_type": "code",
   "execution_count": 35,
   "metadata": {},
   "outputs": [
    {
     "data": {
      "text/plain": [
       "1.9999862559063435"
      ]
     },
     "execution_count": 35,
     "metadata": {},
     "output_type": "execute_result"
    }
   ],
   "source": [
    "input_size = os.path.getsize(input_path)\n",
    "compressed_size = os.path.getsize(compressed_path)\n",
    "k = input_size / compressed_size\n",
    "k"
   ]
  },
  {
   "cell_type": "code",
   "execution_count": null,
   "metadata": {},
   "outputs": [],
   "source": [
    "# Q = 100\n",
    "# FULL COMPRESSION: 11.739450733289742\n",
    "# WITHOUT DOWNSAMPLING: 9.031208046018312\n",
    "# WITHOUT DCT: 5.361484566949595\n",
    "# WITHOUT QUANTIZATION: 4.35237862854984\n",
    "# WITHOUT ENTROPY CODING: 1.9999862559063435\n",
    "\n",
    "# Q = 50\n",
    "# FULL COMPRESSION: 14.331652118020278\n",
    "# WITHOUT DOWNSAMPLING: 11.462659773384024\n",
    "# WITHOUT DCT: 7.842117078802112\n",
    "# WITHOUT QUANTIZATION: 4.35237862854984\n",
    "# WITHOUT ENTROPY CODING: 1.9999862559063435"
   ]
  }
 ],
 "metadata": {
  "kernelspec": {
   "display_name": "Python 3",
   "language": "python",
   "name": "python3"
  },
  "language_info": {
   "codemirror_mode": {
    "name": "ipython",
    "version": 3
   },
   "file_extension": ".py",
   "mimetype": "text/x-python",
   "name": "python",
   "nbconvert_exporter": "python",
   "pygments_lexer": "ipython3",
   "version": "3.10.1"
  }
 },
 "nbformat": 4,
 "nbformat_minor": 2
}
